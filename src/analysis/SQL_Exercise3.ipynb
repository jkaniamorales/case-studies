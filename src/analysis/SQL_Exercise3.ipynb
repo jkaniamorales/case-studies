{
 "cells": [
  {
   "cell_type": "markdown",
   "metadata": {},
   "source": [
    "1. EmployeeId: SCD type 0\n",
    "    * int NOT NULL\n",
    "    * strategy: use to identify records to update or duplicate & update\n",
    "\n",
    "2. EmployeeName: SCD type 1\n",
    "    * nvarchar(250)\n",
    "    * strategy: UPDATE record\n",
    "\n",
    "3. EmployeeTitle: SCD type 2\n",
    "    * nvarchar(250)\n",
    "    * strategy: INSERT new record with 'Valid_from' and 'Valid_to' entries\n",
    "\n",
    "4. ManagerId: SCD type 2\n",
    "    * int\n",
    "    * strategy: INSERT new record with 'Valid_from' and 'Valid_to' entries\n",
    "\n",
    "5. SalaryNumber: SCD type 0\n",
    "    * int\n",
    "    * strategy: do not update, propagate\n",
    "\n",
    "6. Valid_from: SCD type 2\n",
    "    * TIMESTAMP\n",
    "    * strategy: INSERT new record with CURRENT_TIMESTAMP if change in SCD type 2\n",
    "\n",
    "7. Valid_to: SCD type 2\n",
    "    * TIMESTAMP\n",
    "    * strategy: UPDATED last record with CURRENT_TIMESTAMP and INSERT new record with '9999-12-31 23:59:59' if change in SCD type 2"
   ]
  },
  {
   "cell_type": "code",
   "execution_count": null,
   "metadata": {},
   "outputs": [],
   "source": []
  }
 ],
 "metadata": {
  "kernelspec": {
   "display_name": "Python 3 (ipykernel)",
   "language": "python",
   "name": "python3"
  },
  "language_info": {
   "codemirror_mode": {
    "name": "ipython",
    "version": 3
   },
   "file_extension": ".py",
   "mimetype": "text/x-python",
   "name": "python",
   "nbconvert_exporter": "python",
   "pygments_lexer": "ipython3",
   "version": "3.11.8"
  }
 },
 "nbformat": 4,
 "nbformat_minor": 4
}
