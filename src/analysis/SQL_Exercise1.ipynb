{
 "cells": [
  {
   "cell_type": "markdown",
   "metadata": {},
   "source": [
    "# Imports"
   ]
  },
  {
   "cell_type": "code",
   "execution_count": 1,
   "metadata": {},
   "outputs": [],
   "source": [
    "import sqlite3\n",
    "from prettytable import from_db_cursor\n",
    "from project_paths import EMPLOYEES_DB"
   ]
  },
  {
   "cell_type": "markdown",
   "metadata": {},
   "source": [
    "# Connect to database"
   ]
  },
  {
   "cell_type": "code",
   "execution_count": 2,
   "metadata": {},
   "outputs": [],
   "source": [
    "con = sqlite3.connect(EMPLOYEES_DB)\n",
    "cur = con.cursor()"
   ]
  },
  {
   "cell_type": "markdown",
   "metadata": {},
   "source": [
    "# Source table"
   ]
  },
  {
   "cell_type": "code",
   "execution_count": 3,
   "metadata": {},
   "outputs": [
    {
     "data": {
      "text/plain": [
       "<sqlite3.Cursor at 0x20bdd829b40>"
      ]
     },
     "execution_count": 3,
     "metadata": {},
     "output_type": "execute_result"
    }
   ],
   "source": [
    "cur.execute(\"\"\"\n",
    "    SELECT      *\n",
    "    FROM        tEmployeeList\n",
    "\"\"\")"
   ]
  },
  {
   "cell_type": "code",
   "execution_count": 4,
   "metadata": {},
   "outputs": [
    {
     "name": "stdout",
     "output_type": "stream",
     "text": [
      "+------------+--------------+-----------------------------+-----------+\n",
      "| EmployeeId | EmployeeName | EmployeeTitle               | ManagerId |\n",
      "+------------+--------------+-----------------------------+-----------+\n",
      "| 1          | John T.      | Director of American Office | None      |\n",
      "| 2          | George F.    | Manager                     | 1         |\n",
      "| 3          | Elliot S.    | Driver                      | 2         |\n",
      "| 11         | Anna K.      | Director of European Office | None      |\n",
      "| 12         | Elsa F.      | Senior Manager              | 11        |\n",
      "| 13         | Olaf S.      | Snowma                      | 12        |\n",
      "| 21         | Tom K.       | Cat in European Office      | 11        |\n",
      "| 22         | Kristoff I.  | Ice Manager                 | 21        |\n",
      "| 23         | Troll K.     | Stone Manager               | 22        |\n",
      "+------------+--------------+-----------------------------+-----------+\n"
     ]
    }
   ],
   "source": [
    "res = from_db_cursor(cur)\n",
    "res.align = \"l\"\n",
    "print(res)"
   ]
  },
  {
   "cell_type": "markdown",
   "metadata": {},
   "source": [
    "# Solution"
   ]
  },
  {
   "cell_type": "code",
   "execution_count": 5,
   "metadata": {},
   "outputs": [
    {
     "data": {
      "text/plain": [
       "<sqlite3.Cursor at 0x20bdd829b40>"
      ]
     },
     "execution_count": 5,
     "metadata": {},
     "output_type": "execute_result"
    }
   ],
   "source": [
    "cur.execute(\"\"\"\n",
    "WITH t1 AS (\n",
    "    SELECT  EmployeeId,\n",
    "            EmployeeName,\n",
    "            EmployeeTitle,\n",
    "            IFNULL(ManagerId, EmployeeId) as ManagerId\n",
    "    FROM    tEmployeeList\n",
    "),\n",
    "\n",
    "t2 AS (\n",
    "        SELECT          t1.EmployeeId, t1.EmployeeName, t1.EmployeeTitle, t1.ManagerId,\n",
    "                        b.EmployeeName as ManagerName,\n",
    "                        c.EmployeeId as ManagersManagerId,\n",
    "                        c.EmployeeName as ManagersManagerName,\n",
    "                        d.EmployeeId as DirectorId,\n",
    "                        d.EmployeeName as DirectorName,\n",
    "                        CASE\n",
    "                                WHEN t1.ManagerId = t1.EmployeeId THEN \"l1\"\n",
    "                                WHEN t1.ManagerId = d.EmployeeId THEN \"l2\"\n",
    "                                WHEN c.EmployeeId = d.EmployeeId THEN \"l3\"\n",
    "                                ELSE \"l4\"\n",
    "                                END as level\n",
    "        FROM            t1\n",
    "        LEFT JOIN       t1 as b\n",
    "                ON      t1.ManagerId = b.EmployeeId\n",
    "        LEFT JOIN       t1 as c\n",
    "                ON      b.ManagerId = c.EmployeeId\n",
    "        LEFT JOIN       t1 as d\n",
    "                ON      c.ManagerId = d.EmployeeId\n",
    ")\n",
    "\n",
    "SELECT      EmployeeId,\n",
    "            EmployeeName,\n",
    "            EmployeeTitle,\n",
    "            ManagerId,\n",
    "            ManagerName,\n",
    "            DirectorName,\n",
    "            CASE\n",
    "                WHEN level  = \"l1\" THEN EmployeeName\n",
    "                WHEN level  = \"l2\" THEN ManagerName || \" | \" || EmployeeName\n",
    "                WHEN level  = \"l3\" THEN DirectorName || \" | \" || ManagerName || \" | \" || EmployeeName\n",
    "                ELSE DirectorName || \" | \" || ManagerName || \" | \" || ManagersManagerName || \" | \" || EmployeeName\n",
    "                END as PositionBreadcrumbs\n",
    "FROM        t2\n",
    "\n",
    "\"\"\")"
   ]
  },
  {
   "cell_type": "code",
   "execution_count": 6,
   "metadata": {},
   "outputs": [
    {
     "name": "stdout",
     "output_type": "stream",
     "text": [
      "+------------+--------------+-----------------------------+-----------+-------------+--------------+-------------------------------------------+\n",
      "| EmployeeId | EmployeeName | EmployeeTitle               | ManagerId | ManagerName | DirectorName | PositionBreadcrumbs                       |\n",
      "+------------+--------------+-----------------------------+-----------+-------------+--------------+-------------------------------------------+\n",
      "| 1          | John T.      | Director of American Office | 1         | John T.     | John T.      | John T.                                   |\n",
      "| 2          | George F.    | Manager                     | 1         | John T.     | John T.      | John T. | George F.                       |\n",
      "| 3          | Elliot S.    | Driver                      | 2         | George F.   | John T.      | John T. | George F. | Elliot S.           |\n",
      "| 11         | Anna K.      | Director of European Office | 11        | Anna K.     | Anna K.      | Anna K.                                   |\n",
      "| 12         | Elsa F.      | Senior Manager              | 11        | Anna K.     | Anna K.      | Anna K. | Elsa F.                         |\n",
      "| 13         | Olaf S.      | Snowma                      | 12        | Elsa F.     | Anna K.      | Anna K. | Elsa F. | Olaf S.               |\n",
      "| 21         | Tom K.       | Cat in European Office      | 11        | Anna K.     | Anna K.      | Anna K. | Tom K.                          |\n",
      "| 22         | Kristoff I.  | Ice Manager                 | 21        | Tom K.      | Anna K.      | Anna K. | Tom K. | Kristoff I.            |\n",
      "| 23         | Troll K.     | Stone Manager               | 22        | Kristoff I. | Anna K.      | Anna K. | Kristoff I. | Tom K. | Troll K. |\n",
      "+------------+--------------+-----------------------------+-----------+-------------+--------------+-------------------------------------------+\n"
     ]
    }
   ],
   "source": [
    "res = from_db_cursor(cur)\n",
    "res.align = \"l\"\n",
    "print(res)"
   ]
  },
  {
   "cell_type": "markdown",
   "metadata": {},
   "source": [
    "# Close connection to database"
   ]
  },
  {
   "cell_type": "code",
   "execution_count": 7,
   "metadata": {},
   "outputs": [],
   "source": [
    "cur.close()"
   ]
  },
  {
   "cell_type": "code",
   "execution_count": null,
   "metadata": {},
   "outputs": [],
   "source": []
  }
 ],
 "metadata": {
  "kernelspec": {
   "display_name": "Python 3 (ipykernel)",
   "language": "python",
   "name": "python3"
  },
  "language_info": {
   "codemirror_mode": {
    "name": "ipython",
    "version": 3
   },
   "file_extension": ".py",
   "mimetype": "text/x-python",
   "name": "python",
   "nbconvert_exporter": "python",
   "pygments_lexer": "ipython3",
   "version": "3.11.8"
  }
 },
 "nbformat": 4,
 "nbformat_minor": 4
}
