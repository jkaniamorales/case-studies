{
 "cells": [
  {
   "cell_type": "markdown",
   "metadata": {},
   "source": [
    "# Imports"
   ]
  },
  {
   "cell_type": "code",
   "execution_count": 1,
   "metadata": {},
   "outputs": [],
   "source": [
    "import sqlite3\n",
    "from prettytable import from_db_cursor\n",
    "from project_paths import EMPLOYEES_DB"
   ]
  },
  {
   "cell_type": "markdown",
   "metadata": {},
   "source": [
    "# Connect to database"
   ]
  },
  {
   "cell_type": "code",
   "execution_count": 2,
   "metadata": {},
   "outputs": [],
   "source": [
    "con = sqlite3.connect(EMPLOYEES_DB)\n",
    "cur = con.cursor()"
   ]
  },
  {
   "cell_type": "markdown",
   "metadata": {},
   "source": [
    "# Source table"
   ]
  },
  {
   "cell_type": "code",
   "execution_count": 3,
   "metadata": {},
   "outputs": [
    {
     "data": {
      "text/plain": [
       "<sqlite3.Cursor at 0x2258c58f5c0>"
      ]
     },
     "execution_count": 3,
     "metadata": {},
     "output_type": "execute_result"
    }
   ],
   "source": [
    "cur.execute(\"\"\"\n",
    "    SELECT      *\n",
    "    FROM        tSalary\n",
    "\"\"\")"
   ]
  },
  {
   "cell_type": "code",
   "execution_count": 4,
   "metadata": {},
   "outputs": [
    {
     "name": "stdout",
     "output_type": "stream",
     "text": [
      "+--------------+-------------+------------+--------+\n",
      "| CalendarDate | Employee    | Department | Salary |\n",
      "+--------------+-------------+------------+--------+\n",
      "| 20190101     | Employee #1 | Sales      | 1000   |\n",
      "| 20190101     | Employee #2 | Sales      | 2000   |\n",
      "| 20190101     | Employee #3 | Marketing  | 3000   |\n",
      "| 20190201     | Employee #1 | Sales      | 1200   |\n",
      "| 20190201     | Employee #2 | Sales      | 2200   |\n",
      "| 20190201     | Employee #3 | Marketing  | 3200   |\n",
      "| 20190301     | Employee #1 | Sales      | 1500   |\n",
      "| 20190301     | Employee #2 | Sales      | 2500   |\n",
      "| 20190301     | Employee #3 | Marketing  | 3500   |\n",
      "| 20190401     | Employee #1 | Sales      | 1700   |\n",
      "| 20190401     | Employee #2 | Sales      | 2700   |\n",
      "| 20190401     | Employee #3 | Marketing  | 3700   |\n",
      "+--------------+-------------+------------+--------+\n"
     ]
    }
   ],
   "source": [
    "res = from_db_cursor(cur)\n",
    "res.align = \"l\"\n",
    "print(res)"
   ]
  },
  {
   "cell_type": "markdown",
   "metadata": {},
   "source": [
    "# Solution"
   ]
  },
  {
   "cell_type": "code",
   "execution_count": 5,
   "metadata": {},
   "outputs": [
    {
     "data": {
      "text/plain": [
       "<sqlite3.Cursor at 0x2258c58f5c0>"
      ]
     },
     "execution_count": 5,
     "metadata": {},
     "output_type": "execute_result"
    }
   ],
   "source": [
    "cur.execute(\"\"\"\n",
    "SELECT      CalendarDate,\n",
    "            Employee,\n",
    "            Department,\n",
    "            Salary,\n",
    "            FIRST_VALUE(Salary) OVER(PARTITION BY Employee ORDER BY CalendarDate asc) as FirstSalary,\n",
    "            LAG(Salary, 1) OVER(PARTITION BY Employee ORDER BY CalendarDate asc) as PreviousSalary,\n",
    "            LEAD(Salary, 1) OVER(PARTITION BY Employee ORDER BY CalendarDate asc) as NextSalary,\n",
    "            SUM(Salary) OVER(PARTITION BY CalendarDate, Department) as SumOfDepartmentSalary,\n",
    "            SUM(Salary) OVER(PARTITION BY Department ORDER BY CalendarDate asc) as CumulativeValueOfDepartmentSalary\n",
    "FROM        tSalary\n",
    "ORDER BY    Employee, CalendarDate\n",
    "\"\"\")"
   ]
  },
  {
   "cell_type": "code",
   "execution_count": 6,
   "metadata": {},
   "outputs": [
    {
     "name": "stdout",
     "output_type": "stream",
     "text": [
      "+--------------+-------------+------------+--------+-------------+----------------+------------+-----------------------+-----------------------------------+\n",
      "| CalendarDate | Employee    | Department | Salary | FirstSalary | PreviousSalary | NextSalary | SumOfDepartmentSalary | CumulativeValueOfDepartmentSalary |\n",
      "+--------------+-------------+------------+--------+-------------+----------------+------------+-----------------------+-----------------------------------+\n",
      "| 20190101     | Employee #1 | Sales      | 1000   | 1000        | None           | 1200       | 3000                  | 3000                              |\n",
      "| 20190201     | Employee #1 | Sales      | 1200   | 1000        | 1000           | 1500       | 3400                  | 6400                              |\n",
      "| 20190301     | Employee #1 | Sales      | 1500   | 1000        | 1200           | 1700       | 4000                  | 10400                             |\n",
      "| 20190401     | Employee #1 | Sales      | 1700   | 1000        | 1500           | None       | 4400                  | 14800                             |\n",
      "| 20190101     | Employee #2 | Sales      | 2000   | 2000        | None           | 2200       | 3000                  | 3000                              |\n",
      "| 20190201     | Employee #2 | Sales      | 2200   | 2000        | 2000           | 2500       | 3400                  | 6400                              |\n",
      "| 20190301     | Employee #2 | Sales      | 2500   | 2000        | 2200           | 2700       | 4000                  | 10400                             |\n",
      "| 20190401     | Employee #2 | Sales      | 2700   | 2000        | 2500           | None       | 4400                  | 14800                             |\n",
      "| 20190101     | Employee #3 | Marketing  | 3000   | 3000        | None           | 3200       | 3000                  | 3000                              |\n",
      "| 20190201     | Employee #3 | Marketing  | 3200   | 3000        | 3000           | 3500       | 3200                  | 6200                              |\n",
      "| 20190301     | Employee #3 | Marketing  | 3500   | 3000        | 3200           | 3700       | 3500                  | 9700                              |\n",
      "| 20190401     | Employee #3 | Marketing  | 3700   | 3000        | 3500           | None       | 3700                  | 13400                             |\n",
      "+--------------+-------------+------------+--------+-------------+----------------+------------+-----------------------+-----------------------------------+\n"
     ]
    }
   ],
   "source": [
    "res = from_db_cursor(cur)\n",
    "res.align = \"l\"\n",
    "print(res)"
   ]
  },
  {
   "cell_type": "markdown",
   "metadata": {},
   "source": [
    "# Close connection to database"
   ]
  },
  {
   "cell_type": "code",
   "execution_count": 7,
   "metadata": {},
   "outputs": [],
   "source": [
    "cur.close()"
   ]
  },
  {
   "cell_type": "code",
   "execution_count": null,
   "metadata": {},
   "outputs": [],
   "source": []
  }
 ],
 "metadata": {
  "kernelspec": {
   "display_name": "Python 3 (ipykernel)",
   "language": "python",
   "name": "python3"
  },
  "language_info": {
   "codemirror_mode": {
    "name": "ipython",
    "version": 3
   },
   "file_extension": ".py",
   "mimetype": "text/x-python",
   "name": "python",
   "nbconvert_exporter": "python",
   "pygments_lexer": "ipython3",
   "version": "3.11.8"
  }
 },
 "nbformat": 4,
 "nbformat_minor": 4
}
